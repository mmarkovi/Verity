{
 "cells": [
  {
   "cell_type": "code",
   "execution_count": 20,
   "metadata": {},
   "outputs": [],
   "source": [
    "from covidPreprocess import getCoronaVocabulary "
   ]
  },
  {
   "cell_type": "code",
   "execution_count": 3,
   "metadata": {},
   "outputs": [
    {
     "name": "stdout",
     "output_type": "stream",
     "text": [
      "\n",
      "Extracting tokens from each review.....(can be slow for a large number of reviews)......\n",
      "there are 82 nan titles\n",
      "there are 10 nan text\n"
     ]
    },
    {
     "name": "stderr",
     "output_type": "stream",
     "text": [
      "C:\\Users\\Mia Markovic\\anaconda3\\lib\\site-packages\\sklearn\\feature_extraction\\text.py:383: UserWarning: Your stop_words may be inconsistent with your preprocessing. Tokenizing the stop words generated tokens ['ha', 'le', 'u', 'wa'] not in stop_words.\n",
      "  warnings.warn('Your stop_words may be inconsistent with '\n"
     ]
    },
    {
     "name": "stdout",
     "output_type": "stream",
     "text": [
      "Data shape for text:  (1164, 4651)\n",
      "Data shape for text:  (1164, 4651)\n",
      "Vocabulary for text:  ['1', '1 2', '10', '10 day', '10 percent', '10 year', '100', '100 year', '1000', '10000', '100000', '11', '11 million', '12', '12 18', '13', '14', '14 day', '15', '150', '150000', '16', '17', '18', '18 2019', '18 month', '19', '1918', '1989', '2', '2 week', '20', '20 mile', '20 second', '200', '2000', '20000', '200000', '2001', '2002', '2003', '2004', '2005', '2006', '2008', '2009', '201', '2010', '2012', '2013', '2014', '2015', '2016', '2017', '2018', '2019', '2019 new', '2019 novel', '2020', '2021', '21', '22', '23', '24', '24 hour', '25', '26', '27', '28', '29', '3', '30', '300', '3000', '30000', '31', '33', '35', '36', '4', '40', '400', '41', '44', '45', '48', '4g', '5', '50', '50 million', '500', '5000', '50000', '56', '5g', '5g ha', '5g network', '5g rollout', '5g technology', '5g tower', '6', '6 foot', '60', '60 alcohol', '600', '65', '65 million', '7', '70', '72', '72 hour', '75', '8', '80', '800', '85', '9', '90', '95', '96', '98', 'ability', 'able', 'abroad', 'absence', 'absolute', 'absolutely', 'absorption', 'abuse', 'academic', 'academy', 'academy science', 'accelerate', 'accept', 'accepted', 'accepting', 'access', 'accessible', 'accident', 'accidental', 'accidentally', 'accompanied', 'according', 'according cdc', 'according new', 'according report', 'according study', 'account', 'accuracy', 'accurate', 'accurately', 'accusation', 'accused', 'ace2', 'ace2 receptor', 'acetaminophen', 'ache', 'achieve', 'achieved', 'acid', 'acknowledge', 'acknowledged', 'acquire', 'acquired', 'act', 'acting', 'action', 'activated', 'activation', 'active', 'actively', 'activist', 'activity', 'actor', 'actual', 'actually', 'acute', 'acute respiratory', 'adam', 'adam health', 'adapt', 'add', 'added', 'adding', 'addition', 'additional', 'additionally', 'address', 'addressed', 'adequate', 'adhanom', 'adhanom ghebreyesus', 'administer', 'administered', 'administration', 'administration ha', 'admission', 'admit', 'admitted', 'adopted', 'adult', 'advance', 'advanced', 'advanced research', 'advantage', 'adverse', 'advice', 'advise', 'advised', 'adviser', 'advises', 'advisor', 'advisory', 'advocate', 'aerosol', 'affair', 'affect', 'affected', 'affecting', 'affiliated', 'afraid', 'africa', 'african', 'afternoon', 'age', 'age group', 'aged', 'agency', 'agency s', 'agenda', 'agent', 'aggressive', 'ago', 'agree', 'agreed', 'agreement', 'ahead', 'aid', 'ailment', 'aim', 'aimed', 'air', 'airborne', 'airline', 'airport', 'airway', 'al', 'alarm', 'alarming', 'alcohol', 'alert', 'alex', 'ali', 'alive', 'allegation', 'alleged', 'allegedly', 'allergy', 'allergy infectious', 'alliance', 'allow', 'allowed', 'allowing', 'allows', 'altered', 'alternative', 'america', 'america s', 'american', 'american people', 'amid', 'amino', 'amino acid', 'analysis', 'analyst', 'analyzed', 'andrew', 'animal', 'animal human', 'animal including', 'animal market', 'animal specie', 'animal wa', 'announced', 'announcement', 'annual', 'annually', 'answer', 'answer question', 'antenna', 'anthony', 'anthony fauci', 'anthrax', 'antibiotic', 'antibody', 'antibody test', 'antioxidant', 'antiviral', 'antiviral drug', 'antiviral treatment', 'anxiety', 'anybody', 'anymore', 'apart', 'app', 'apparent', 'apparently', 'appeal', 'appear', 'appearance', 'appeared', 'appearing', 'appears', 'apple', 'application', 'applied', 'apply', 'approach', 'appropriate', 'approval', 'approved', 'approximately', 'april', 'arabia', 'ards', 'area', 'area china', 'aren', 'aren t', 'argue', 'argued', 'argues', 'arguing', 'argument', 'arise', 'arm', 'army', 'array', 'arrest', 'arrested', 'arrived', 'arthritis', 'article', 'article published', 'artificial', 'artificial intelligence', 'artificially', 'ascorbic', 'ascorbic acid', 'asia', 'ask', 'ask question', 'asked', 'asking', 'aspect', 'ass', 'assessed', 'assessment', 'assigned', 'assist', 'assistance', 'assistant', 'assistant professor', 'associate', 'associated', 'association', 'assume', 'assuming', 'assumption', 'asthma', 'asymptomatic', 'attack', 'attacked', 'attacking', 'attempt', 'attend', 'attention', 'attorney', 'attributed', 'audience', 'australia', 'australian', 'author', 'authority', 'autoimmune', 'availability', 'available', 'available use', 'average', 'avian', 'avoid', 'avoid close', 'avoid touching', 'avoiding', 'awarded', 'aware', 'awareness', 'away', 'away people', 'azithromycin', 'b', 'baby', 'backed', 'background', 'backyard', 'bacteria', 'bacteria virus', 'bacterial', 'bacterial infection', 'bad', 'badly', 'bag', 'balance', 'ban', 'bank', 'banned', 'bar', 'barely', 'barrier', 'base', 'based', 'basic', 'basically', 'basis', 'bat', 'bat coronavirus', 'bat coronaviruses', 'bat snake', 'bat virus', 'bat wa', 'bathroom', 'bathroom fixture', 'battle', 'baylor', 'baylor college', 'bbc', 'bear', 'beast', 'beat', 'bed', 'bedside', 'began', 'begin', 'beginning', 'begun', 'behavior', 'beijing', 'belief', 'believe', 'believed', 'beneficial', 'benefit', 'best', 'best thing', 'best way', 'bet', 'better', 'big', 'big pharma', 'bigger', 'biggest', 'billion', 'billion dollar', 'billion people', 'billionaire', 'bind', 'binding', 'biohazard', 'biological', 'biological warfare', 'biological weapon', 'biologist', 'biology', 'biomedical', 'biometric', 'biosafety', 'biosafety laboratory', 'biosafety level', 'biosecurity', 'biotech', 'biotechnology', 'biowarfare', 'bioweapon', 'bioweapon research', 'bird', 'bird flu', 'birth', 'birx', 'bit', 'black', 'blame', 'blamed', 'bleach', 'block', 'blocked', 'blocking', 'blog', 'blood', 'blood cell', 'blood pressure', 'blood test', 'bloodstream', 'bloomberg', 'blow', 'blowing', 'blowing nose', 'blueprint', 'board', 'bodily', 'body', 'body s', 'body temperature', 'body weight', 'bomb', 'bombshell', 'book', 'boost', 'boost immune', 'boosting', 'border', 'born', 'boston', 'bottle', 'bought', 'box', 'boyle', 'brain', 'branch', 'brand', 'brazil', 'break', 'breakthrough', 'breath', 'breathe', 'breathing', 'brief', 'briefing', 'bring', 'bringing', 'brings', 'britain', 'british', 'broad', 'broadcast', 'broader', 'broke', 'broken', 'bronchitis', 'brought', 'budget', 'build', 'building', 'built', 'burden', 'burn', 'bus', 'bush', 'business', 'buy', 'buying', 'c', 'c d', 'c ha', 'c treatment', 'c used', 'c vitamin', 'ca', 'california', 'called', 'calling', 'calm', 'came', 'camel', 'campaign', 'canada', 'canada s', 'canadian', 'canadian lab', 'cancel', 'canceled', 'cancellation', 'cancelled', 'cancer', 'candidate', 'capability', 'capable', 'capacity', 'capital', 'capsule', 'car', 'cardboard', 'cardiopulmonary', 'cardiovascular', 'cardiovascular disease', 'care', 'care facility', 'care provider', 'care unit', 'care worker', 'career', 'careful', 'carefully', 'caregiver', 'caring', 'carolina', 'carried', 'carrier', 'carry', 'carrying', 'case', 'case coronavirus', 'case death', 'case fatality', 'case infection', 'case number', 'case people', 'case reported', 'case wa', 'case wuhan', 'cash', 'cast', 'cat', 'catastrophe', 'catastrophic', 'catch', 'catching', 'category', 'caught', 'cause', 'cause death', 'cause disease', 'cause illness', 'cause severe', 'cause symptom', 'caused', 'caused coronavirus', 'caused major', 'caused virus', 'causing', 'caution', 'cautioned', 'cautious', 'ccp', 'cdc', 'cdc ha', 'cdc recommends', 'cdc s', 'cdc say', 'cell', 'cellular', 'censorship', 'cent', 'center', 'center disease', 'center health', 'central', 'centre', 'century', 'ceo', 'cepi', 'certain', 'certainly', 'certificate', 'certificate ha', 'chain', 'chain reaction', 'chair', 'chairman', 'challenge', 'challenging', 'chan', 'chance', 'change', 'changed', 'changing', 'channel', 'characteristic', 'characterized', 'charge', 'charged', 'chart', 'cheap', 'check', 'checking', 'chemical', 'chemistry', 'chen', 'cheng', 'chest', 'chicago', 'chicken', 'chief', 'chief medical', 'child', 'child age', 'child s', 'chill', 'china', 'china coronavirus', 'china did', 'china ha', 'china s', 'china south', 'china wa', 'chinese', 'chinese authority', 'chinese biological', 'chinese center', 'chinese city', 'chinese communist', 'chinese government', 'chinese lab', 'chinese national', 'chinese official', 'chinese people', 'chinese researcher', 'chinese scientist', 'chinese virologist', 'chip', 'chloroquine', 'chloroquine hydroxychloroquine', 'choice', 'choose', 'chose', 'chosen', 'chronic', 'chronic medical', 'cia', 'circle', 'circulate', 'circulating', 'circumstance', 'circumstantial', 'cited', 'citizen', 'city', 'city china', 'city s', 'city wuhan', 'civet', 'civil', 'civilization', 'claim', 'claimed', 'claiming', 'clarify', 'class', 'classic', 'clean', 'clean disinfect', 'clean hand', 'cleaner', 'cleaning', 'clear', 'clearly', 'click', 'climate', 'clinic', 'clinical', 'clinical evidence', 'clinical study', 'clinical trial', 'clinically', 'clinician', 'clinton', 'close', 'close contact', 'closed', 'closely', 'closely related', 'closer', 'closest', 'closing', 'closure', 'cloth', 'cloth face', 'clothing', 'clue', 'cluster', 'cnn', 'coalition', 'coalition epidemic', 'cocktail', 'code', 'coincidence', 'cold', 'cold flu', 'collaboration', 'collapse', 'collapsed', 'collapsing', 'colleague', 'collected', 'collection', 'collective', 'college', 'college london', 'college medicine', 'colloidal', 'colloidal silver', 'columbia', 'columbia university', 'combat', 'combination', 'combined', 'come', 'come contact', 'coming', 'command', 'comment', 'commercial', 'commission', 'commissioner', 'committed', 'committee', 'common', 'common cold', 'common flu', 'common sense', 'common symptom', 'commonly', 'communication', 'communist', 'communist china', 'communist party', 'community', 'community spread', 'company', 'compare', 'compared', 'comparing', 'comparison', 'competing', 'complete', 'completely', 'complex', 'complication', 'component', 'compound', 'comprehensive', 'compromised', 'computer', 'concentration', 'concept', 'concern', 'concerned', 'concerning', 'conclude', 'concluded', 'conclusion', 'condition', 'conduct', 'conducted', 'conducting', 'conference', 'confidence', 'confident', 'confined', 'confirm', 'confirmed', 'confirmed case', 'confirmed infection', 'conflict', 'confusion', 'congress', 'conjunction', 'connected', 'connection', 'consensus', 'consequence', 'conservative', 'consider', 'considerable', 'considerably', 'consideration', 'considered', 'considering', 'consistent', 'consistently', 'conspiracy', 'conspiracy theorist', 'conspiracy theory', 'constant', 'constantly', 'construction', 'consumer', 'consuming', 'consumption', 'contact', 'contact ha', 'contact infected', 'contact people', 'contact tracing', 'contacted', 'contagion', 'contagious', 'contain', 'contain spread', 'contain virus', 'contained', 'containing', 'containing virus', 'containment', 'contains', 'contains 60', 'contaminated', 'contaminated surface', 'contamination', 'content', 'context', 'continent', 'continually', 'continue', 'continued', 'continues', 'continues spread', 'continuing', 'continuous', 'contract', 'contracted', 'contracting', 'contrary', 'contrast', 'contribute', 'control', 'control prevention', 'controlled', 'controlling', 'controversial', 'convalescent', 'convalescent plasma', 'convention', 'conventional', 'conversation', 'convinced', 'convincing', 'cooperation', 'coordinated', 'coordination', 'cope', 'copper', 'copy', 'core', 'corner', 'corona', 'corona virus', 'coronavirus', 'coronavirus 2', 'coronavirus according', 'coronavirus bioweapon', 'coronavirus case', 'coronavirus cause', 'coronavirus china', 'coronavirus chinese', 'coronavirus continues', 'coronavirus crisis', 'coronavirus death', 'coronavirus disease', 'coronavirus doe', 'coronavirus emerged', 'coronavirus epidemic', 'coronavirus ha', 'coronavirus infection', 'coronavirus just', 'coronavirus known', 'coronavirus lab', 'coronavirus new', 'coronavirus news', 'coronavirus originated', 'coronavirus outbreak', 'coronavirus pandemic', 'coronavirus patient', 'coronavirus people', 'coronavirus researcher', 'coronavirus s', 'coronavirus said', 'coronavirus sars', 'coronavirus spread', 'coronavirus strain', 'coronavirus study', 'coronavirus symptom', 'coronavirus task', 'coronavirus treatment', 'coronavirus vaccine', 'coronavirus virus', 'coronavirus wa', 'coronavirus world', 'coronaviruses', 'coronaviruses bat', 'coronaviruses cause', 'coronaviruses sars', 'corporate', 'corporation', 'correct', 'cost', 'cotton', 'cough', 'cough difficulty', 'cough fever', 'cough shortness', 'cough sneeze', 'coughing', 'coughing sneezing', 'couldn', 'couldn t', 'council', 'count', 'counter', 'counter tabletop', 'country', 'country ha', 'country including', 'country s', 'country wa', 'country world', 'county', 'couple', 'course', 'court', 'cov', 'cover', 'cover cough', 'coverage', 'covered', 'covering', 'covert', 'covid', 'covid19', 'crash', 'create', 'created', 'created lab', 'creates', 'creating', 'creation', 'credit', 'crime', 'criminal', 'crisis', 'criterion', 'critical', 'critically', 'critically ill', 'criticism', 'cross', 'crowd', 'crowded', 'crown', 'crucial', 'cruise', 'cruise ship', 'crystal', 'cuba', 'culture', 'cup', 'cure', 'cure coronavirus', 'cured', 'current', 'current coronavirus', 'current pandemic', 'currently', 'curve', 'cut', 'cycle', 'cytokine', 'cytokine storm', 'd', 'd3', 'daily', 'damage', 'damaging', 'danger', 'dangerous', 'dangerous pathogen', 'dangerous virus', 'data', 'database', 'date', 'david', 'davos', 'day', 'day day', 'day exposure', 'day later', 'day symptom', 'day week', 'dead', 'deadliest', 'deadly', 'deadly coronavirus', 'deadly disease', 'deadly virus', 'deal', 'dealing', 'dean', 'death', 'death coronavirus', 'death flu', 'death rate', 'death toll', 'death wa', 'debate', 'debt', 'debunked', 'decade', 'december', 'december 2019', 'decide', 'decided', 'decision', 'declare', 'declared', 'decline', 'decrease', 'dedicated', 'deemed', 'deep', 'deep state', 'deeper', 'deeply', 'defeat', 'defense', 'deficiency', 'defined', 'definitely', 'definition', 'definitive', 'degree', 'delay', 'deliberate', 'deliberately', 'deliver', 'delivered', 'delivery', 'demand', 'democracy', 'democrat', 'democratic', 'demonstrated', 'demonstration', 'dengue', 'denial', 'denied', 'department', 'department defense', 'department health', 'depend', 'dependent', 'depending', 'depends', 'deployed', 'deployment', 'depopulation', 'depression', 'deputy', 'derived', 'described', 'describes', 'description', 'design', 'designated', 'designed', 'desperately', 'despite', 'despite fact', 'destroy', 'destroyed', 'destroying', 'destruction', 'destructive', 'detailed', 'detect', 'detected', 'detection', 'detergent', 'determine', 'determined', 'detrick', 'devastating', 'develop', 'develop symptom', 'develop vaccine', 'developed', 'developer', 'developing', 'developing vaccine', 'development', 'development vaccine', 'develops', 'device', 'diabetes', 'diagnose', 'diagnosed', 'diagnosis', 'diagnostic', 'diagnostic test', 'diagnostics', 'diamond', 'diarrhea', 'did', 'didn', 'didn t', 'die', 'died', 'diet', 'dietary', 'difference', 'different', 'different type', 'different way', 'difficult', 'difficulty', 'difficulty breathing', 'digestive', 'digital', 'digital certificate', 'diminish', 'direct', 'directed', 'direction', 'directly', 'director', 'director center', 'director general', 'director national', 'dirty', 'disaster', 'discharged', 'discomfort', 'discovered', 'discovery', 'discus', 'discussed', 'discussion', 'disease', 'disease 2019', 'disease caused', 'disease control', 'disease diabetes', 'disease expert', 'disease ha', 'disease including', 'disease like', 'disease niaid', 'disease s', 'disease specialist', 'disease spread', 'disease wa', 'dish', 'disinfect', 'disinfect surface', 'disinfectant', 'disinfecting', 'disinfection', 'disinformation', 'dismiss', 'dismissed', 'disorder', 'dispatched', 'disposable', 'disposal', 'disruption', 'distance', 'distance people', 'distancing', 'distancing measure', 'distinct', 'distinguish', 'distress', 'distress syndrome', 'distribute', 'distributed', 'distribution', 'disturbing', 'divided', 'division', 'dna', 'doctor', 'document', 'documented', 'doe', 'doe cause', 'doe coronavirus', 'doe mean', 'doesn', 'doesn t', 'dog', 'doing', 'dollar', 'domain', 'domestic', 'don', 'don t', 'donald', 'donald trump', 'donation', 'donor', 'door', 'doorknob', 'doorknob bathroom', 'dos', 'dos vitamin', 'dosage', 'dose', 'dosing', 'dot', 'double', 'doubt', 'dozen', 'dr', 'draconian', 'dramatic', 'dramatically', 'drastic', 'draw', 'drawn', 'dream', 'drink', 'drinking', 'drive', 'driven', 'driver', 'driving', 'drop', 'droplet', 'droplet produced', 'dropped', 'drug', 'drug administration', 'drug treat', 'drug used', 'drug vaccine', 'dry', 'dry cough', 'dubbed', 'duration', 'dying', 'e', 'eager', 'ear', 'earlier', 'earliest', 'early', 'early february', 'early stage', 'earth', 'ease', 'easier', 'easily', 'east', 'east respiratory', 'eastern', 'easy', 'eat', 'eating', 'ebola', 'ebola sars', 'ebola virus', 'ebright', 'economic', 'economic forum', 'economist', 'economy', 'education', 'effect', 'effective', 'effective treating', 'effective treatment', 'effective vaccine', 'effectively', 'effectiveness', 'efficacy', 'efficiently', 'effort', 'effort contain', 'egyptian', 'elbow', 'elderly', 'election', 'electromagnetic', 'electronic', 'element', 'eliminate', 'eliminated', 'elite', 'email', 'embassy', 'emerge', 'emerged', 'emergence', 'emergency', 'emergency room', 'emergency warning', 'emerging', 'emerging infectious', 'emf', 'emit', 'emphasis', 'emphasized', 'empire', 'employ', 'employee', 'enable', 'encounter', 'encourage', 'encouraged', 'encouraging', 'end', 'ended', 'endemic', 'ending', 'enemy', 'energy', 'engaged', 'engineer', 'engineered', 'engineering', 'england', 'england journal', 'enhance', 'enhanced', 'enjoy', 'enormous', 'ensure', 'ensuring', 'enter', 'entered', 'entering', 'enterprise', 'entire', 'entire world', 'entirely', 'entitled', 'entity', 'entry', 'environment', 'environmental', 'enzyme', 'epa', 'epicenter', 'epidemic', 'epidemic ha', 'epidemic preparedness', 'epidemiological', 'epidemiologist', 'epidemiology', 'episode', 'equal', 'equally', 'equipment', 'equipped', 'equipped handle', 'equivalent', 'era', 'eradicate', 'erasmus', 'erasmus medical', 'error', 'escape', 'escaped', 'escaped lab', 'especially', 'especially important', 'essential', 'essential oil', 'essentially', 'establish', 'established', 'establishment', 'estimate', 'estimated', 'et', 'et al', 'ethical', 'eu', 'eugenics', 'europe', 'european', 'european union', 'evaluate', 'evaluated', 'evaluation', 'event', 'event 201', 'eventually', 'everybody', 'everyday', 'evidence', 'evidence suggests', 'evidence support', 'evidence virus', 'evil', 'evolution', 'evolutionary', 'evolve', 'evolved', 'evolving', 'exact', 'exactly', 'exaggerated', 'examined', 'example', 'exception', 'excessive', 'exchange', 'exclusive', 'exclusively', 'excuse', 'executive', 'executive director', 'exercise', 'exhibit', 'exist', 'existed', 'existence', 'existing', 'exists', 'expand', 'expanded', 'expanding', 'expect', 'expected', 'expensive', 'experience', 'experienced', 'experiencing', 'experiment', 'experimental', 'experimental vaccine', 'experimenting', 'expert', 'expert agree', 'expert say', 'expertise', 'explain', 'explained', 'explaining', 'explains', 'explanation', 'explicitly', 'exploiting', 'explore', 'exploring', 'export', 'expose', 'exposed', 'exposed virus', 'exposing', 'exposure', 'exposure virus', 'expressed', 'expression', 'extend', 'extended', 'extensive', 'extent', 'external', 'extra', 'extraordinary', 'extreme', 'extremely', 'eye', 'eye mouth', 'eye nose', 'face', 'face covering', 'face mask', 'facebook', 'faced', 'facility', 'facing', 'fact', 'fact virus', 'factor', 'factory', 'fail', 'failed', 'failing', 'failure', 'fairly', 'fake', 'fake news', 'fall', 'falling', 'false', 'false claim', 'falsely', 'familiar', 'family', 'family friend', 'family member', 'family virus', 'far', 'farm', 'fast', 'faster', 'fatal', 'fatality', 'fatality rate', 'fatigue', 'faucet', 'fauci', 'fauci director', 'fauci ha', 'fauci s', 'fauci said', 'favor', 'fda', 'fear', 'feature', 'february', 'fed', 'federal', 'federal government', 'feed', 'feel', 'feeling', 'fell', 'fellow', 'ferret', 'fever', 'fever cough', 'fever dry', 'fewer', 'fewer people', 'field', 'fight', 'fight coronavirus', 'fight infection', 'fight virus', 'fighting', 'figure', 'figuring', 'filed', 'filled', 'final', 'finally', 'finance', 'financial', 'finding', 'fine', 'finger', 'finished', 'firm', 'fish', 'fit', 'fixture', 'fixture toilet', 'flatten', 'flatten curve', 'flawed', 'flight', 'flow', 'flu', 'flu cold', 'flu death', 'flu pandemic', 'flu season', 'flu shot', 'flu symptom', 'flu vaccine', 'flu virus', 'fluid', 'fly', 'focus', 'focused', 'focusing', 'folk', 'follow', 'followed', 'following', 'follows', 'food', 'food drug', 'food supply', 'foot', 'foot distance', 'force', 'forced', 'forcibly', 'forcing', 'foreign', 'forget', 'form', 'formal', 'formed', 'formula', 'fort', 'fort detrick', 'forth', 'forum', 'forum melinda', 'forward', 'fouchier', 'foundation', 'founded', 'founder', 'fourth', 'fox', 'fox news', 'fraction', 'fragment', 'framework', 'france', 'francis', 'francis boyle', 'francisco', 'frank', 'frank plummer', 'fraud', 'fred', 'free', 'freedom', 'french', 'frequency', 'frequent', 'frequently', 'frequently touched', 'fresh', 'friday', 'friend', 'frightening', 'fruit', 'fruit vegetable', 'fuel', 'fully', 'function', 'functioning', 'fund', 'fundamental', 'funded', 'funding', 'furthermore', 'future', 'gain', 'gained', 'gaining', 'game', 'garlic', 'gas', 'gastrointestinal', 'gate', 'gate foundation', 'gate ha', 'gate wa', 'gate want', 'gather', 'gathering', 'gave', 'gavi', 'gear', 'gene', 'gene sequence', 'general', 'general public', 'generally', 'generate', 'generated', 'generation', 'genetic', 'genetic code', 'genetic engineering', 'genetic material', 'genetic sequence', 'genetically', 'genetically engineered', 'genetically modified', 'genetics', 'geneva', 'genome', 'genome sequence', 'genomic', 'geographic', 'geopolitical', 'george', 'georgia', 'germ', 'german', 'germany', 'getting', 'getting infected', 'getting sick', 'ghebreyesus', 'giant', 'gilead', 'given', 'giving', 'glass', 'global', 'global economy', 'global health', 'global pandemic', 'global public', 'globalist', 'globalists', 'globally', 'globe', 'glove', 'goal', 'god', 'going', 'going work', 'gold', 'gone', 'good', 'good idea', 'good news', 'google', 'got', 'gotten', 'government', 'government agency', 'government ha', 'government s', 'government world', 'governmental', 'governor', 'gradually', 'gram', 'grant', 'granted', 'great', 'greater', 'greatest', 'greatly', 'green', 'grew', 'grid', 'grip', 'grocery', 'grocery store', 'ground', 'group', 'group people', 'grow', 'growing', 'grown', 'growth', 'guarantee', 'guaranteed', 'guess', 'guidance', 'guide', 'guideline', 'gun', 'guy', 'h1n1', 'ha', 'ha announced', 'ha begun', 'ha caused', 'ha come', 'ha created', 'ha declared', 'ha emerged', 'ha far', 'ha given', 'ha gone', 'ha infected', 'ha just', 'ha killed', 'ha known', 'ha led', 'ha long', 'ha potential', 'ha proven', 'ha published', 'ha received', 'ha recovered', 'ha reported', 'ha said', 'ha seen', 'ha shown', 'ha spread', 'ha studied', 'ha tested', 'ha used', 'ha virus', 'ha worked', 'hair', 'half', 'halt', 'halted', 'hand', 'hand frequently', 'hand hand', 'hand rub', 'hand sanitizer', 'hand soap', 'hand thoroughly', 'hand washing', 'handful', 'handle', 'handling', 'handwashing', 'happen', 'happened', 'happening', 'happens', 'happy', 'hard', 'harder', 'hardly', 'harm', 'harmful', 'harmless', 'harvard', 'harvard medical', 'hasn', 'hasn t', 'hate', 'haven', 'haven t', 'having', 'havoc', 'head', 'headache', 'headline', 'healing', 'health', 'health authority', 'health care', 'health commission', 'health condition', 'health crisis', 'health department', 'health effect', 'health emergency', 'health expert', 'health facility', 'health human', 'health measure', 'health nih', 'health official', 'health organization', 'health ranger', 'health risk', 'health security', 'health worker', 'healthcare', 'healthcare provider', 'healthcare worker', 'healthy', 'healthy people', 'hear', 'heard', 'hearing', 'heart', 'heart disease', 'heat', 'heavily', 'heavy', 'hedge', 'held', 'help', 'help fight', 'help people', 'help prevent', 'help protect', 'help reduce', 'help u', 'helped', 'helpful', 'helping', 'hemorrhagic', 'hemorrhagic fever', 'hepatitis', 'herb', 'herbal', 'herd', 'herd immunity', 'hidden', 'hide', 'hiding', 'high', 'high blood', 'high dos', 'high fever', 'high level', 'high risk', 'higher', 'higher risk', 'highest', 'highlight', 'highlighted', 'highly', 'highly contagious', 'hint', 'historical', 'historically', 'history', 'hit', 'hiv', 'hoax', 'hold', 'holding', 'hole', 'home', 'home possible', 'home sick', 'hong', 'hong kong', 'hope', 'hopefully', 'hoping', 'hopkins', 'hopkins center', 'hopkins university', 'hormone', 'horror', 'horseshoe', 'horseshoe bat', 'hospital', 'hospital wuhan', 'hospitalization', 'hospitalized', 'hospitalized patient', 'host', 'host cell', 'hosted', 'hot', 'hotez', 'hour', 'hour day', 'house', 'household', 'household disinfectant', 'http', 'huanan', 'huanan seafood', 'hubei', 'hubei province', 'huge', 'human', 'human animal', 'human body', 'human cell', 'human coronaviruses', 'human life', 'human population', 'human right', 'human trial', 'humanitarian', 'humanity', 'humidity', 'husband', 'hydrogen', 'hydroxychloroquine', 'hygiene', 'hype', 'hypertension', 'hypothesis', 'hysteria', 'icu', 'id', 'id2020', 'idea', 'ideal', 'ideally', 'identical', 'identification', 'identified', 'identify', 'identifying', 'identity', 'ignore', 'ignored', 'ii', 'ill', 'ill patient', 'illegal', 'illinois', 'illness', 'illness caused', 'illness including', 'image', 'imagine', 'immediate', 'immediately', 'immune', 'immune function', 'immune response', 'immunity', 'immunization', 'immunocompromised', 'immunology', 'impact', 'imperial', 'imperial college', 'implant', 'implement', 'implementation', 'implemented', 'implementing', 'implication', 'importance', 'important', 'important factor', 'important note', 'important thing', 'importantly', 'imposed', 'impossible', 'improve', 'improved', 'improvement', 'improving', 'inability', 'inactivated', 'incidence', 'incident', 'include', 'include fever', 'included', 'includes', 'including', 'including coronavirus', 'including ebola', 'including virus', 'income', 'increase', 'increase risk', 'increased', 'increased risk', 'increasing', 'increasingly', 'incredibly', 'incubation', 'incubation period', 'independent', 'index', 'india', 'indian', 'indicate', 'indicated', 'indicates', 'indicating', 'indication', 'individual', 'indoors', 'induced', 'industrial', 'industry', 'ineffective', 'inevitable', 'inevitably', 'inexpensive', 'infamous', 'infant', 'infect', 'infect human', 'infect people', 'infected', 'infected coronavirus', 'infected new', 'infected patient', 'infected people', 'infected person', 'infected virus', 'infecting', 'infecting human', 'infection', 'infection coronavirus', 'infection death', 'infection ha', 'infection rate', 'infection virus', 'infectious', 'infectious agent', 'infectious disease', 'infects', 'inflammation', 'inflammatory', 'inflammatory response', 'influence', 'influenced', 'influenza', 'influenza pandemic', 'influenza virus', 'inform', 'information', 'information coronavirus', 'informed', 'infowars', 'infrastructure', 'infusion', 'ingredient', 'inhaled', 'inhibit', 'inhibiting', 'inhibitor', 'initial', 'initially', 'initiated', 'initiative', 'inject', 'injected', 'injecting', 'injection', 'injury', 'innovation', 'innovation cepi', 'inovio', 'insect', 'insert', 'inserted', 'inserting', 'insertion', 'inside', 'insight', 'installed', 'instance', 'instead', 'institute', 'institute allergy', 'institute health', 'institute virology', 'institution', 'instruction', 'insurance', 'intelligence', 'intended', 'intense', 'intensive', 'intensive care', 'intent', 'intentionally', 'interact', 'interaction', 'interested', 'interesting', 'interference', 'interferon', 'intermediate', 'internal', 'international', 'internet', 'intervention', 'interview', 'interviewed', 'intravenous', 'intravenous vitamin', 'intravenously', 'introduce', 'introduced', 'introduction', 'invader', 'invasion', 'invention', 'invested', 'investigate', 'investigated', 'investigating', 'investigation', 'investigator', 'investment', 'invisible', 'involve', 'involved', 'involvement', 'involves', 'involving', 'iran', 'island', 'isn', 'isn t', 'isolate', 'isolated', 'isolating', 'isolation', 'israel', 'israeli', 'issue', 'issued', 'italian', 'italy', 'item', 'iv', 'iv vitamin', 'james', 'january', 'january 2020', 'japan', 'japanese', 'jinping', 'job', 'john', 'john hopkins', 'johnson', 'johnson johnson', 'join', 'joined', 'joint', 'jones', 'joseph', 'journal', 'journal medicine', 'journal nature', 'journalist', 'juice', 'july', 'jump', 'jumped', 'june', 'just', 'just like', 'just time', 'just week', 'justice', 'justify', 'keeping', 'kennedy', 'kept', 'key', 'keyboard', 'keyboard tablet', 'kid', 'kidney', 'kidney disease', 'kill', 'kill coronavirus', 'kill people', 'kill virus', 'killed', 'killer', 'killing', 'kind', 'king', 'kingdom', 'kit', 'knew', 'know', 'know coronavirus', 'know virus', 'knowing', 'knowledge', 'known', 'kong', 'korea', 'la', 'lab', 'lab china', 'lab wa', 'lab wuhan', 'label', 'labeled', 'laboratory', 'laboratory wuhan', 'lack', 'lacking', 'laid', 'lancet', 'land', 'large', 'large dos', 'large family', 'large number', 'largely', 'larger', 'largest', 'lasting', 'late', 'late december', 'later', 'latest', 'launch', 'launched', 'laundry', 'law', 'lay', 'layer', 'le', 'le likely', 'lead', 'leader', 'leadership', 'leading', 'leaf', 'leak', 'leaked', 'learn', 'learned', 'learning', 'leave', 'leaving', 'led', 'left', 'legal', 'legislation', 'legitimate', 'length', 'lesson', 'let', 'let s', 'lethal', 'lethal virus', 'lethality', 'letter', 'level', 'level 4', 'levy', 'liberal', 'liberation', 'liberation army', 'liberty', 'library', 'lie', 'life', 'lifestyle', 'lifted', 'light', 'like', 'like common', 'like coronavirus', 'like flu', 'like sars', 'likelihood', 'likely', 'likewise', 'limit', 'limit contact', 'limitation', 'limited', 'limiting', 'line', 'lining', 'link', 'linked', 'linking', 'lip', 'liquid', 'list', 'listed', 'listen', 'literally', 'literature', 'little', 'little bit', 'live', 'live animal', 'liver', 'living', 'll', 'load', 'local', 'local health', 'located', 'location', 'lock', 'lockdown', 'locked', 'logic', 'logical', 'london', 'long', 'long ago', 'long time', 'longer', 'look', 'look like', 'looked', 'looking', 'lose', 'losing', 'loss', 'loss smell', 'lost', 'lot', 'lot people', 'love', 'loved', 'low', 'lower', 'lower risk', 'lung', 'lung disease', 'lung injury', 'lying', 'm', 'machine', 'magazine', 'magnesium', 'magnitude', 'mail', 'main', 'mainland', 'mainland china', 'mainly', 'mainstream', 'mainstream medium', 'maintain', 'maintained', 'maintaining', 'major', 'majority', 'make', 'make people', 'make sense', 'make sure', 'make vaccine', 'make virus', 'maker', 'making', 'making sure', 'malaria', 'man', 'manage', 'managed', 'management', 'managing', 'mandatory', 'mandatory vaccination', 'mandatory vaccine', 'manifestation', 'manipulated', 'manipulation', 'mankind', 'manmade', 'manufacture', 'manufactured', 'manufacturer', 'manufacturing', 'map', 'marc', 'march', 'march 17', 'march 2020', 'mark', 'market', 'market wuhan', 'marketed', 'marketing', 'marketplace', 'martial', 'martial law', 'maryland', 'mask', 'mass', 'mass death', 'mass vaccination', 'massachusetts', 'massive', 'massively', 'master', 'match', 'material', 'matter', 'maximum', 'maybe', 'md', 'meal', 'mean', 'mean people', 'meaning', 'meant', 'meantime', 'measles', 'measure', 'meat', 'mechanism', 'medical', 'medical attention', 'medical care', 'medical center', 'medical condition', 'medical doctor', 'medical expert', 'medical journal', 'medical professional', 'medical research', 'medical school', 'medical science', 'medical supply', 'medication', 'medicine', 'medicine news', 'medium', 'medium outlet', 'medium s', 'meet', 'meeting', 'melinda', 'melinda gate', 'member', 'membrane', 'men', 'mental', 'mental health', 'mention', 'mentioned', 'merck', 'mere', 'merely', 'mers', 'message', 'met', 'meter', 'method', 'metre', 'mexico', 'mg', 'mg vitamin', 'michael', 'michigan', 'microbe', 'microbiologist', 'microbiology', 'microchip', 'microsoft', 'microwave', 'middle', 'middle east', 'midst', 'migrant', 'mike', 'mike adam', 'mild', 'mild case', 'mild illness', 'mild moderate', 'mild symptom', 'milder', 'mile', 'mile away', 'military', 'military world', 'milk', 'milligram', 'million', 'million american', 'million death', 'million dollar', 'million dos', 'million grant', 'million people', 'mind', 'mineral', 'minimal', 'minimize', 'minimum', 'minister', 'ministry', 'minor', 'minute', 'misinformation', 'misleading', 'missed', 'missing', 'mission', 'mistake', 'mit', 'mitigate', 'mix', 'mixed', 'mobile', 'mode', 'model', 'modeled', 'modeling', 'moderate', 'moderate severe', 'modern', 'moderna', 'modest', 'modified', 'molecular', 'molecule', 'moment', 'monday', 'money', 'monitor', 'monitored', 'monitoring', 'monkey', 'month', 'month ago', 'month later', 'month year', 'morbidity', 'morbidity mortality', 'morning', 'mortality', 'mortality rate', 'moscow', 'mother', 'motif', 'mount', 'mouse', 'mouth', 'mouth nose', 'mouth unwashed', 'moved', 'movement', 'movie', 'moving', 'mrna', 'mucus', 'multiple', 'mumps', 'muscle', 'mutate', 'mutated', 'mutating', 'mutation', 'mysterious', 'mystery', 'myth', 'n95', 'named', 'nanotechnology', 'narrative', 'nasal', 'nation', 'nation s', 'national', 'national academy', 'national biosafety', 'national government', 'national health', 'national institute', 'national microbiology', 'national security', 'nationwide', 'nato', 'natural', 'natural origin', 'naturally', 'naturally occurring', 'nature', 'nature medicine', 'nausea', 'ncov', 'near', 'nearby', 'nearly', 'necessarily', 'necessary', 'need', 'need know', 'need stay', 'needed', 'negative', 'neighbor', 'netherlands', 'network', 'neurological', 'new', 'new case', 'new coronavirus', 'new disease', 'new england', 'new infection', 'new report', 'new strain', 'new study', 'new type', 'new vaccine', 'new virus', 'new world', 'new year', 'new york', 'newborn', 'newly', 'news', 'news service', 'newspaper', 'niaid', 'night', 'nightmare', 'nih', 'nl63', 'nml', 'nobel', 'normal', 'normally', 'north', 'north america', 'north carolina', 'northern', 'norway', 'nose', 'nose coughing', 'nose mouth', 'nose throat', 'note', 'noted', 'notice', 'notified', 'notify', 'noting', 'notion', 'novel', 'novel coronavirus', 'novel virus', 'november', 'nuclear', 'number', 'number case', 'number death', 'number new', 'number people', 'numerous', 'nurse', 'nursing', 'nutrient', 'nutrition', 'nutritional', 'obama', 'object', 'objective', 'observation', 'observed', 'obtained', 'obvious', 'obviously', 'occur', 'occurred', 'occurring', 'occurs', 'october', 'october 18', 'october 2019', 'odds', 'offensive', 'offer', 'offered', 'offering', 'office', 'officer', 'official', 'official say', 'officially', 'oh', 'oil', 'ok', 'old', 'older', 'older adult', 'older people', 'ongoing', 'online', 'onset', 'open', 'opened', 'opening', 'openly', 'operate', 'operating', 'operation', 'opinion', 'opportunity', 'opposed', 'opposite', 'optimal', 'option', 'oral', 'orally', 'order', 'ordered', 'ordinary', 'organ', 'organ failure', 'organic', 'organisation', 'organism', 'organization', 'organization ha', 'organized', 'origin', 'origin coronavirus', 'origin virus', 'original', 'original paper', 'originally', 'originate', 'originated', 'originated china', 'originated wuhan', 'orthomolecular', 'orthomolecular medicine', 'outbreak', 'outbreak 2003', 'outbreak began', 'outbreak china', 'outbreak coronavirus', 'outbreak pandemic', 'outbreak s', 'outbreak wa', 'outbreak wuhan', 'outcome', 'outdoors', 'outlet', 'outright', 'outside', 'outside china', 'overall', 'overcome', 'overwhelmed', 'overwhelming', 'owned', 'owns', 'owns patent', 'oxford', 'oxidative', 'oxidative stress', 'oxygen', 'pace', 'package', 'page', 'paid', 'pain', 'pain pressure', 'pandemic', 'pandemic exercise', 'pandemic ha', 'pandemic s', 'pandemic wa', 'panel', 'pangolin', 'panic', 'paper', 'paper ha', 'paper published', 'paper wa', 'parallel', 'parent', 'park', 'partially', 'participant', 'participate', 'participated', 'participation', 'particle', 'particular', 'particularly', 'partner', 'partnership', 'partnership world', 'party', 'pas', 'passed', 'passenger', 'passing', 'past', 'past decade', 'past year', 'patent', 'patented', 'path', 'pathogen', 'pathogenic', 'pathology', 'pathway', 'patient', 'patient china', 'patient ha', 'patient hospitalized', 'patient s', 'patient severe', 'patient treated', 'patient wa', 'pattern', 'paul', 'pay', 'paying', 'peak', 'peer', 'pentagon', 'people', 'people china', 'people close', 'people come', 'people coronavirus', 'people die', 'people died', 'people don', 'people dying', 'people exposed', 'people home', 'people infected', 'people killed', 'people like', 'people likely', 'people live', 'people mild', 'people need', 'people recovered', 'people s', 'people severe', 'people sick', 'people spread', 'people symptom', 'people underlying', 'people virus', 'people world', 'people worldwide', 'percent', 'percent people', 'percentage', 'perfect', 'perform', 'performed', 'period', 'period time', 'permanent', 'permission', 'persistent', 'person', 'person cough', 'person ha', 'person infected', 'person person', 'person s', 'personal', 'personal protective', 'personally', 'personnel', 'perspective', 'pet', 'peter', 'petition', 'pharma', 'pharmaceutical', 'pharmaceutical company', 'pharmacy', 'phase', 'phase 1', 'phd', 'phenomenon', 'philanthropic', 'philanthropist', 'philippine', 'phone', 'phone keyboard', 'physical', 'physical distancing', 'physically', 'physician', 'pick', 'picture', 'piece', 'pig', 'pipeline', 'pirbright', 'pirbright institute', 'pla', 'place', 'placebo', 'placed', 'plague', 'plan', 'plane', 'planet', 'planned', 'planning', 'plant', 'plasma', 'plastic', 'platform', 'plausible', 'play', 'play role', 'played', 'player', 'playing', 'plenty', 'plot', 'plummer', 'plus', 'pneumonia', 'point', 'pointed', 'pointing', 'poison', 'police', 'policy', 'polio', 'polio vaccine', 'political', 'politically', 'politician', 'politics', 'poll', 'pollution', 'polymerase', 'poor', 'poorly', 'popular', 'population', 'population control', 'portion', 'pose', 'posed', 'position', 'positive', 'positive virus', 'possibility', 'possible', 'possibly', 'post', 'posted', 'potent', 'potential', 'potential vaccine', 'potentially', 'power', 'powerful', 'practical', 'practice', 'practice social', 'practicing', 'practitioner', 'praised', 'pray', 'precaution', 'precisely', 'predict', 'predicted', 'prediction', 'pregnancy', 'preliminary', 'premature', 'preparation', 'prepare', 'prepared', 'preparedness', 'preparedness innovation', 'preparing', 'preprint', 'prescribed', 'prescription', 'presence', 'present', 'presentation', 'presented', 'presenting', 'president', 'president donald', 'president trump', 'press', 'press conference', 'pressure', 'presumably', 'pretty', 'prevalence', 'prevalent', 'prevent', 'prevent coronavirus', 'prevent infection', 'prevent spread', 'prevent treat', 'prevent virus', 'preventative', 'prevented', 'preventing', 'preventing treating', 'prevention', 'prevention cdc', 'prevention treatment', 'preventive', 'prevents', 'previous', 'previously', 'price', 'primarily', 'primary', 'prime', 'prime minister', 'princess', 'principle', 'prior', 'priority', 'prison', 'private', 'prize', 'probability', 'probable', 'probably', 'problem', 'procedure', 'process', 'processed', 'produce', 'produced', 'produced infected', 'producer', 'producing', 'product', 'production', 'prof', 'professional', 'professor', 'professor medicine', 'profile', 'profit', 'program', 'programme', 'progress', 'progression', 'prohibited', 'project', 'projection', 'prolonged', 'prominent', 'promise', 'promising', 'promote', 'promoted', 'promoting', 'prompt', 'proof', 'propaganda', 'proper', 'properly', 'property', 'proportion', 'proposed', 'prospect', 'protect', 'protect coronavirus', 'protect people', 'protected', 'protecting', 'protection', 'protective', 'protective equipment', 'protects', 'protein', 'protest', 'protocol', 'prove', 'proved', 'proven', 'proven effective', 'provide', 'provided', 'provider', 'provides', 'providing', 'province', 'province china', 'proving', 'proximity', 'public', 'public health', 'public place', 'public private', 'public transportation', 'publication', 'publicly', 'publish', 'published', 'published article', 'published journal', 'published lancet', 'published study', 'pull', 'pulmonary', 'purchase', 'pure', 'purpose', 'pursue', 'push', 'pushed', 'pushing', 'putting', 'qiu', 'quality', 'quantity', 'quantum', 'quantum dot', 'quarantine', 'quarantined', 'quarter', 'question', 'questioned', 'questioning', 'quick', 'quickly', 'quite', 'quote', 'quoted', 'r', 'rabbit', 'race', 'radiation', 'radical', 'radio', 'raise', 'raised', 'raising', 'ran', 'random', 'randomized', 'randomly', 'range', 'ranger', 'ranger report', 'ranging', 'rapid', 'rapidly', 'rare', 'rarely', 'rat', 'rate', 'ratg13', 'ratio', 'reach', 'reached', 'reaching', 'reaction', 'read', 'reader', 'readily', 'readily available', 'reading', 'ready', 'real', 'realistic', 'reality', 'realize', 'realized', 'really', 'realm', 'reason', 'reasonable', 'recall', 'receive', 'received', 'receiving', 'recent', 'recent study', 'recent year', 'recently', 'recently published', 'receptor', 'receptor binding', 'recipe', 'recipient', 'reckless', 'recognize', 'recognized', 'recombinant', 'recommend', 'recommendation', 'recommended', 'recommends', 'record', 'recorded', 'recover', 'recovered', 'recovered patient', 'recovering', 'recovery', 'red', 'reddit', 'reduce', 'reduce risk', 'reduced', 'reduces', 'reducing', 'reduction', 'refer', 'reference', 'referred', 'referring', 'refers', 'reflect', 'refuse', 'refused', 'regard', 'regarding', 'regardless', 'regime', 'regimen', 'region', 'regional', 'registered', 'regular', 'regularly', 'regulation', 'regulator', 'regulatory', 'rejected', 'related', 'related coronavirus', 'relation', 'relationship', 'relative', 'relatively', 'relatively low', 'release', 'released', 'relevant', 'reliable', 'relief', 'relieve', 'religious', 'rely', 'remain', 'remaining', 'remains', 'remark', 'remarkable', 'remdesivir', 'remedy', 'remember', 'remind', 'remote', 'remotely', 'remove', 'removed', 'removing', 'renal', 'reopen', 'repeat', 'repeated', 'repeatedly', 'replace', 'replaced', 'replicate', 'replication', 'report', 'report china', 'report coronavirus', 'report mike', 'report published', 'reported', 'reported case', 'reportedly', 'reporter', 'reporting', 'represent', 'representative', 'represents', 'republic', 'republican', 'reputation', 'request', 'require', 'required', 'requirement', 'requires', 'requiring', 'research', 'research center', 'research development', 'research ha', 'research institute', 'research lab', 'research paper', 'research project', 'research suggests', 'research team', 'research wa', 'researcher', 'researching', 'resemble', 'reserve', 'reservoir', 'resident', 'resistance', 'resistant', 'resolve', 'resource', 'respect', 'respirator', 'respiratory', 'respiratory disease', 'respiratory distress', 'respiratory droplet', 'respiratory failure', 'respiratory illness', 'respiratory infection', 'respiratory symptom', 'respiratory syndrome', 'respiratory tract', 'respiratory virus', 'respond', 'responded', 'responding', 'response', 'responsibility', 'responsible', 'rest', 'rest world', 'restaurant', 'restriction', 'result', 'resulted', 'resulting', 'return', 'return normal', 'returned', 'returning', 'reuters', 'reveal', 'revealed', 'revealing', 'reveals', 'revelation', 'reverse', 'review', 'reviewed', 'revise', 'rheumatoid', 'rheumatoid arthritis', 'rich', 'richard', 'richard ebright', 'right', 'right away', 'rise', 'rising', 'risk', 'risk complication', 'risk death', 'risk developing', 'risk dying', 'risk factor', 'risk getting', 'risk illness', 'risk infected', 'risk infection', 'risk severe', 'risk spreading', 'risky', 'rna', 'rna virus', 'road', 'robert', 'robust', 'rockefeller', 'role', 'roll', 'rolled', 'rolling', 'rollout', 'ron', 'ron fouchier', 'room', 'root', 'rose', 'rotterdam', 'roughly', 'round', 'route', 'routine', 'routinely', 'rub', 'rule', 'rumor', 'run', 'running', 'runny', 'runny nose', 'rural', 'rush', 'russia', 'russia china', 'russian', 'rutgers', 'rutgers university', 's', 's best', 's case', 's clear', 's coronavirus', 's dangerous', 's early', 's going', 's good', 's hard', 's health', 's hospital', 's immune', 's important', 's just', 's likely', 's lot', 's national', 's new', 's people', 's population', 's possible', 's protein', 's really', 's response', 's s', 's spread', 's time', 's unclear', 's vaccine', 's way', 'safe', 'safe effective', 'safely', 'safer', 'safety', 'safety efficacy', 'said', 'said coronavirus', 'said people', 'said s', 'said virus', 'said wa', 'sale', 'saliva', 'sample', 'san', 'san francisco', 'sanction', 'sanitizer', 'sanitizer 60', 'sanitizer contains', 'sanofi', 'sars', 'sars coronavirus', 'sars mers', 'sars middle', 'sars outbreak', 'sars severe', 'sars virus', 'sars wa', 'saturday', 'saudi', 'saudi arabia', 'save', 'save life', 'saving', 'saw', 'say', 'say coronavirus', 'say s', 'saying', 'scale', 'scandal', 'scare', 'scared', 'scary', 'scenario', 'schedule', 'school', 'school medicine', 'school public', 'science', 'science technology', 'scientific', 'scientific community', 'scientific evidence', 'scientific paper', 'scientifically', 'scientist', 'scientist say', 'scientist wa', 'scientist wuhan', 'scope', 'scotland', 'screen', 'screening', 'seafood', 'seafood market', 'search', 'season', 'seasonal', 'seasonal flu', 'seattle', 'second', 'second especially', 'second wave', 'secondary', 'secret', 'secretary', 'secretly', 'section', 'sector', 'secure', 'security', 'seeing', 'seek', 'seek medical', 'seeking', 'seemingly', 'seen', 'seizure', 'selected', 'selection', 'selenium', 'sell', 'selling', 'senator', 'send', 'sending', 'senior', 'sense', 'sensitive', 'sent', 'separate', 'separated', 'sepsis', 'september', 'sequence', 'sequence virus', 'sequenced', 'sequencing', 'serf', 'series', 'seriously', 'seriously ill', 'serve', 'served', 'service', 'set', 'setting', 'seven', 'severe', 'severe acute', 'severe case', 'severe disease', 'severe illness', 'severe pneumonia', 'severe symptom', 'severely', 'severely ill', 'severity', 'sex', 'shaking', 'shanghai', 'shape', 'share', 'shared', 'sharing', 'shed', 'shelf', 'shi', 'shift', 'ship', 'shipment', 'shipped', 'shock', 'shop', 'shopping', 'short', 'short period', 'shortage', 'shorter', 'shortness', 'shortness breath', 'shot', 'shouldn', 'shouldn t', 'showed', 'showing', 'showing symptom', 'shown', 'shut', 'shutdown', 'shutting', 'sic', 'sick', 'sick people', 'sick person', 'sickness', 'sign', 'signal', 'signed', 'significant', 'significantly', 'silent', 'silver', 'similar', 'similar sars', 'similarity', 'similarly', 'simple', 'simply', 'simulation', 'simultaneously', 'singapore', 'single', 'sinister', 'sink', 'sit', 'site', 'situation', 'size', 'skeptical', 'skin', 'sleep', 'slightly', 'slow', 'slow spread', 'slowed', 'slowly', 'small', 'small business', 'small number', 'smaller', 'smallpox', 'smart', 'smart city', 'smell', 'smoke', 'smoking', 'snake', 'sneeze', 'sneezing', 'soap', 'soap water', 'social', 'social distancing', 'social medium', 'societal', 'society', 'sold', 'soldier', 'sole', 'solidarity', 'solution', 'solve', 'somebody', 'somewhat', 'soon', 'soon possible', 'sooner', 'sore', 'sore throat', 'sort', 'sought', 'sound', 'sound like', 'soup', 'source', 'source virus', 'south', 'south korea', 'southern', 'soviet', 'space', 'spain', 'spanish', 'spanish flu', 'speak', 'speaking', 'special', 'special pathogen', 'specialist', 'specialized', 'specie', 'specific', 'specific antiviral', 'specific treatment', 'specifically', 'spectrum', 'speculation', 'speech', 'speed', 'spend', 'spending', 'spent', 'spike', 'spike protein', 'spoke', 'spokesman', 'sponsored', 'spot', 'spray', 'spread', 'spread coronavirus', 'spread disease', 'spread easily', 'spread human', 'spread infection', 'spread new', 'spread people', 'spread person', 'spread virus', 'spread world', 'spreading', 'spreading virus', 'spring', 'spy', 'stable', 'staff', 'stage', 'stainless', 'stainless steel', 'stand', 'standard', 'standing', 'stanford', 'stark', 'start', 'started', 'starting', 'state', 'state department', 'state local', 'stated', 'statement', 'stating', 'station', 'statistic', 'status', 'stay', 'stay away', 'stay home', 'staying', 'staying home', 'steel', 'stem', 'step', 'stick', 'stock', 'stock market', 'stole', 'stolen', 'stomach', 'stop', 'stop spread', 'stop virus', 'stopped', 'stopping', 'store', 'storm', 'story', 'straight', 'strain', 'strain coronavirus', 'strain wa', 'strange', 'strategic', 'strategy', 'stream', 'street', 'strength', 'strengthen', 'strengthen immune', 'strengthening', 'stress', 'stressed', 'strict', 'strong', 'strong immune', 'stronger', 'strongly', 'struck', 'structural', 'structure', 'struggle', 'struggling', 'student', 'studied', 'study', 'study conducted', 'study published', 'study s', 'study shown', 'study suggest', 'study wa', 'studying', 'stuff', 'subject', 'subsequent', 'subsequently', 'substance', 'substantial', 'substantially', 'success', 'successful', 'successfully', 'sudden', 'suddenly', 'suffer', 'suffered', 'suffering', 'sufficient', 'sufficiently', 'sugar', 'suggest', 'suggested', 'suggesting', 'suggestion', 'suggests', 'suit', 'suitable', 'summary', 'summer', 'sun', 'sunday', 'sunlight', 'super', 'supermarket', 'supplement', 'supplemental', 'supplementation', 'supply', 'supply chain', 'support', 'supported', 'supporting', 'supportive', 'supportive care', 'supposed', 'supposedly', 'sure', 'sure check', 'surely', 'surface', 'surface hand', 'surface object', 'surge', 'surgical', 'surprise', 'surprised', 'surprising', 'surprisingly', 'surrounding', 'surveillance', 'survey', 'survival', 'survive', 'susceptibility', 'susceptible', 'suspect', 'suspected', 'suspended', 'suspicion', 'suspicious', 'sustained', 'swab', 'sweeping', 'swine', 'swine flu', 'switch', 'switzerland', 'symptom', 'symptom appear', 'symptom common', 'symptom coronavirus', 'symptom fever', 'symptom include', 'symptom like', 'symptom mild', 'symptom people', 'symptom severe', 'symptom similar', 'symptom virus', 'symptomatic', 'syndrome', 'syndrome ards', 'syndrome coronavirus', 'syndrome mers', 'syndrome sars', 'synthetic', 't', 't believe', 't know', 't mean', 't need', 't think', 't want', 't work', 'table', 'tablet', 'tablet bedside', 'tabletop', 'tabletop doorknob', 'tactic', 'taiwan', 'taken', 'taking', 'talk', 'talking', 'tank', 'target', 'targeted', 'targeting', 'task', 'task force', 'taste', 'tattoo', 'tax', 'tea', 'team', 'tech', 'technical', 'technician', 'technique', 'technological', 'technology', 'tedros', 'tedros adhanom', 'television', 'tell', 'tell u', 'telling', 'temperature', 'temporarily', 'temporary', 'tend', 'term', 'terrible', 'territory', 'terror', 'terrorism', 'test', 'test positive', 'test used', 'test virus', 'tested', 'tested positive', 'testimony', 'testing', 'testing people', 'testing positive', 'testing vaccine', 'texas', 'text', 'thailand', 'thanks', 'theoretically', 'theorist', 'theory', 'therapeutic', 'therapy', 'thing', 'thing like', 'think', 'think s', 'thinking', 'thomas', 'thorough', 'thoroughly', 'thought', 'thousand', 'thousand people', 'threat', 'threatened', 'threatening', 'threshold', 'throat', 'throw', 'thursday', 'tie', 'tied', 'time', 'time day', 'time ha', 'time reported', 'timeline', 'tiny', 'tip', 'tissue', 'titled', 'today', 'toilet', 'told', 'toll', 'tom', 'tom cotton', 'ton', 'took', 'took place', 'tool', 'topic', 'total', 'total number', 'totalitarian', 'totally', 'touch', 'touch face', 'touch surface', 'touched', 'touched surface', 'touching', 'touching eye', 'touching face', 'touching surface', 'tough', 'towel', 'tower', 'town', 'toxic', 'toxin', 'trace', 'traced', 'tracing', 'track', 'tracking', 'tract', 'trade', 'traditional', 'traffic', 'train', 'trained', 'training', 'trajectory', 'transfer', 'transform', 'transmissibility', 'transmission', 'transmission virus', 'transmit', 'transmit virus', 'transmitted', 'transmitted human', 'transparent', 'transport', 'transportation', 'travel', 'travel restriction', 'traveled', 'traveler', 'traveling', 'treat', 'treat coronavirus', 'treat patient', 'treated', 'treating', 'treating coronavirus', 'treatment', 'treatment coronavirus', 'treatment disease', 'treatment ha', 'treatment protocol', 'treatment vaccine', 'tree', 'tremendous', 'trend', 'trial', 'trial vaccine', 'tried', 'trigger', 'triggered', 'trillion', 'trip', 'tropical', 'tropical medicine', 'trouble', 'trouble breathing', 'true', 'truly', 'trump', 'trump administration', 'trump ha', 'trump s', 'trust', 'trusted', 'truth', 'try', 'trying', 'tube', 'tuberculosis', 'tuesday', 'turn', 'turned', 'turning', 'tv', 'tweet', 'tweeted', 'twice', 'twitter', 'type', 'type coronavirus', 'type virus', 'typical', 'typically', 'u', 'u center', 'u government', 'u ha', 'u military', 'u national', 'uk', 'ukraine', 'ultimate', 'ultimately', 'ultraviolet', 'unable', 'unaware', 'uncertainty', 'unclear', 'underlying', 'underlying health', 'underlying medical', 'understand', 'understanding', 'underway', 'unexpected', 'unfortunately', 'unicef', 'union', 'unique', 'unit', 'united', 'united kingdom', 'united state', 'universal', 'university', 'university medical', 'university s', 'university school', 'university washington', 'unknown', 'unleash', 'unleashed', 'unleashing', 'unless', 'unlike', 'unlikely', 'unnecessary', 'unprecedented', 'unproven', 'unusual', 'unwashed', 'update', 'updated', 'upper', 'upper respiratory', 'urban', 'urge', 'urged', 'urgency', 'urgent', 'urgently', 'urging', 'usa', 'use', 'use hand', 'used', 'used treat', 'useful', 'user', 'using', 'usual', 'usually', 'vaccinate', 'vaccinated', 'vaccination', 'vaccination program', 'vaccine', 'vaccine approved', 'vaccine available', 'vaccine candidate', 'vaccine coronavirus', 'vaccine developed', 'vaccine development', 'vaccine drug', 'vaccine ha', 'vaccine human', 'vaccine need', 'vaccine new', 'vaccine prevent', 'vaccine produced', 'vaccine program', 'vaccine protect', 'vaccine research', 'vaccine s', 'vaccine used', 'vaccine vaccine', 'vaccine virus', 'vaccine wa', 'vaccine work', 'vaccine year', 'valid', 'valley', 'valuable', 'value', 'vanderbilt', 'vanderbilt university', 'variation', 'varies', 'variety', 'various', 'vary', 'varying', 'vast', 'vast majority', 'vastly', 've', 've seen', 'vector', 'vegetable', 'vehicle', 'ventilation', 'ventilator', 'verified', 'version', 'versus', 'viable', 'vice', 'vice president', 'victim', 'video', 'view', 'violation', 'viral', 'viral disease', 'viral illness', 'viral infection', 'viral particle', 'viral pneumonia', 'viral replication', 'virologist', 'virology', 'virology lab', 'virtual', 'virtually', 'virulent', 'virus', 'virus bacteria', 'virus bat', 'virus body', 'virus called', 'virus came', 'virus cause', 'virus causing', 'virus china', 'virus coronavirus', 'virus did', 'virus disease', 'virus doe', 'virus ha', 'virus human', 'virus including', 'virus infection', 'virus just', 'virus known', 'virus lab', 'virus like', 'virus likely', 'virus make', 'virus mutate', 'virus need', 'virus new', 'virus originated', 'virus outbreak', 'virus pathogen', 'virus people', 'virus s', 'virus said', 'virus similar', 'virus spread', 'virus spreading', 'virus transmitted', 'virus vaccine', 'virus virus', 'virus wa', 'virus wuhan', 'visit', 'visited', 'visiting', 'vital', 'vitamin', 'vitamin c', 'vitamin d', 'vitamin d3', 'vladimir', 'voice', 'voluntarily', 'voluntary', 'volunteer', 'vomiting', 'vulnerable', 'wa', 'wa able', 'wa admitted', 'wa created', 'wa designed', 'wa developed', 'wa discovered', 'wa engineered', 'wa involved', 'wa later', 'wa likely', 'wa published', 'wa reported', 'wa used', 'wait', 'waiting', 'wake', 'walk', 'walking', 'wall', 'want', 'want make', 'wanted', 'war', 'ward', 'warfare', 'warfare program', 'warm', 'warm water', 'warm weather', 'warmer', 'warn', 'warned', 'warning', 'warning sign', 'warns', 'wash', 'wash hand', 'washing', 'washing hand', 'washington', 'washington post', 'washington state', 'wasn', 'wasn t', 'waste', 'watch', 'watched', 'watching', 'water', 'water 20', 'water hand', 'wave', 'way', 'way prevent', 'way protect', 'way virus', 'weak', 'weaken', 'weakened', 'weakening', 'weakness', 'weapon', 'weaponized', 'wear', 'wear mask', 'wearing', 'wearing mask', 'weather', 'web', 'website', 'wednesday', 'week', 'week ago', 'weekend', 'wef', 'weight', 'welcome', 'wellcome', 'went', 'weren', 'weren t', 'west', 'western', 'wet', 'wet market', 'white', 'white blood', 'white house', 'wide', 'wide range', 'widely', 'widespread', 'widespread use', 'wife', 'wild', 'wild animal', 'wildlife', 'william', 'willing', 'win', 'window', 'wing', 'winnipeg', 'winter', 'wipe', 'wireless', 'wish', 'wo', 'woman', 'won', 'won t', 'wonder', 'word', 'work', 'work home', 'worked', 'worker', 'working', 'working vaccine', 'workplace', 'world', 'world economic', 'world economy', 'world ha', 'world health', 'world including', 'world order', 'world population', 'world s', 'world war', 'worldwide', 'worried', 'worry', 'worse', 'worsen', 'worsening', 'worst', 'worth', 'wouldn', 'wouldn t', 'write', 'writes', 'writing', 'written', 'wrong', 'wrote', 'wuhan', 'wuhan china', 'wuhan city', 'wuhan coronavirus', 'wuhan hubei', 'wuhan institute', 'wuhan lab', 'wuhan laboratory', 'wuhan s', 'wuhan seafood', 'wuhan virus', 'wuhan wa', 'xi', 'xi jinping', 'xiangguo', 'xiangguo qiu', 'yale', 'yeah', 'year', 'year ago', 'year ha', 'year old', 'year s', 'yes', 'yesterday', 'york', 'york city', 'york time', 'young', 'young child', 'younger', 'youtube', 'zero', 'zhengli', 'zika', 'zinc', 'zone', 'zoonotic']\n",
      "X: \n",
      "   (0, 2305)\t2\n",
      "  (0, 2738)\t1\n",
      "  (0, 181)\t2\n",
      "  (0, 4515)\t2\n",
      "  (0, 1328)\t2\n",
      "  (0, 4342)\t2\n",
      "  (0, 3317)\t1\n",
      "  (0, 193)\t1\n",
      "  (0, 2330)\t2\n",
      "  (0, 1995)\t2\n",
      "  (0, 900)\t2\n",
      "  (0, 684)\t1\n",
      "  (0, 1408)\t1\n",
      "  (0, 3188)\t1\n",
      "  (0, 2219)\t1\n",
      "  (0, 838)\t1\n",
      "  (0, 1029)\t1\n",
      "  (0, 2653)\t1\n",
      "  (0, 724)\t1\n",
      "  (0, 803)\t1\n",
      "  (0, 4222)\t1\n",
      "  (0, 3331)\t1\n",
      "  (0, 2881)\t1\n",
      "  (0, 946)\t1\n",
      "  (0, 4587)\t1\n",
      "  :\t:\n",
      "  (1163, 1330)\t2\n",
      "  (1163, 1197)\t2\n",
      "  (1163, 4151)\t1\n",
      "  (1163, 4438)\t1\n",
      "  (1163, 1448)\t1\n",
      "  (1163, 3062)\t1\n",
      "  (1163, 1150)\t2\n",
      "  (1163, 3206)\t1\n",
      "  (1163, 3465)\t2\n",
      "  (1163, 25)\t1\n",
      "  (1163, 3670)\t1\n",
      "  (1163, 2291)\t1\n",
      "  (1163, 3537)\t1\n",
      "  (1163, 3857)\t2\n",
      "  (1163, 4345)\t1\n",
      "  (1163, 1297)\t2\n",
      "  (1163, 14)\t1\n",
      "  (1163, 3202)\t1\n",
      "  (1163, 3198)\t1\n",
      "  (1163, 923)\t1\n",
      "  (1163, 3093)\t1\n",
      "  (1163, 947)\t1\n",
      "  (1163, 2678)\t1\n",
      "  (1163, 3030)\t1\n",
      "  (1163, 670)\t1\n",
      "\n",
      "  (0, 2305)\t2\n",
      "  (0, 2738)\t1\n",
      "  (0, 181)\t2\n",
      "  (0, 4515)\t2\n",
      "  (0, 1328)\t2\n",
      "  (0, 4342)\t2\n",
      "  (0, 3317)\t1\n",
      "  (0, 193)\t1\n",
      "  (0, 2330)\t2\n",
      "  (0, 1995)\t2\n",
      "  (0, 900)\t2\n",
      "  (0, 684)\t1\n",
      "  (0, 1408)\t1\n",
      "  (0, 3188)\t1\n",
      "  (0, 2219)\t1\n",
      "  (0, 838)\t1\n",
      "  (0, 1029)\t1\n",
      "  (0, 2653)\t1\n",
      "  (0, 724)\t1\n",
      "  (0, 803)\t1\n",
      "  (0, 4222)\t1\n",
      "  (0, 3331)\t1\n",
      "  (0, 2881)\t1\n",
      "  (0, 946)\t1\n",
      "  (0, 4587)\t1\n",
      "  (0, 1920)\t1\n",
      "  (0, 2866)\t1\n",
      "  (0, 1787)\t1\n",
      "  (0, 397)\t1\n",
      "  (0, 2964)\t1\n",
      "  (0, 1332)\t1\n",
      "  (0, 2885)\t1\n",
      "  (0, 986)\t1\n",
      "  (0, 4591)\t1\n",
      "  (0, 1935)\t1\n"
     ]
    }
   ],
   "source": [
    "X, Y, vectorizerText = getCoronaVocabulary()"
   ]
  },
  {
   "cell_type": "code",
   "execution_count": 21,
   "metadata": {},
   "outputs": [],
   "source": [
    "from nltk.stem import WordNetLemmatizer \n",
    "from nltk.corpus import stopwords\n",
    "\n",
    "lemmatizer = WordNetLemmatizer()\n",
    "lemmStop = [lemmatizer.lemmatize(t) for t in stopwords.words('english')]\n",
    "\n",
    "def getLemmatizedStopwords():\n",
    "    return lemmStop"
   ]
  },
  {
   "cell_type": "code",
   "execution_count": 22,
   "metadata": {},
   "outputs": [
    {
     "name": "stdout",
     "output_type": "stream",
     "text": [
      "\n",
      "Extracting tokens from each review.....(can be slow for a large number of reviews)......\n",
      "there are 80 nan titles\n",
      "there are 7 nan text\n"
     ]
    },
    {
     "name": "stderr",
     "output_type": "stream",
     "text": [
      "C:\\Users\\Mia Markovic\\anaconda3\\lib\\site-packages\\sklearn\\feature_extraction\\text.py:383: UserWarning: Your stop_words may be inconsistent with your preprocessing. Tokenizing the stop words generated tokens ['could', 'might', 'must', 'need', 'sha', 'wo', 'would'] not in stop_words.\n",
      "  warnings.warn('Your stop_words may be inconsistent with '\n"
     ]
    },
    {
     "name": "stdout",
     "output_type": "stream",
     "text": [
      "(578, 6341)\n",
      "Data shape for text:  (578, 6341)\n"
     ]
    }
   ],
   "source": [
    "import nltk \n",
    "from nltk import word_tokenize\n",
    "import simplejson as json\n",
    "import sklearn\n",
    "from sklearn.feature_extraction.text import * \n",
    "from sklearn.model_selection import train_test_split \n",
    "\n",
    "from sklearn import linear_model \n",
    "from sklearn import metrics \n",
    "\n",
    "import numpy as np\n",
    "import matplotlib.pyplot as plt\n",
    "\n",
    "import pandas as pd\n",
    "import preprocessingFunctions as pf\n",
    "\n",
    "coronafile =  pd.read_csv(\"../datasets/corona_fake.csv\")\n",
    "\n",
    "#cleaning up broken data according to labels added by\n",
    "# https://towardsdatascience.com/explore-covid-19-infodemic-2d1ceaae2306\n",
    "coronafile.loc[5]['label'] = 'fake'\n",
    "coronafile.loc[15]['label'] = 'true'\n",
    "coronafile.loc[43]['label'] = 'fake'\n",
    "coronafile.loc[131]['label'] = 'true'\n",
    "coronafile.loc[242]['label'] = 'fake'\n",
    "\n",
    "\n",
    "def getFakeCoronaVocabulary():\n",
    "    text = []\n",
    "    #titles = []\n",
    "    Y = []\n",
    "    i = 0\n",
    "    nanTitle = 0\n",
    "    nanText = 0\n",
    "    print('\\nExtracting tokens from each review.....(can be slow for a large number of reviews)......')   \n",
    "    for d in coronafile.loc:\n",
    "        ftext = d['text']   # keep only the text and label\n",
    "        ftitle = d['title']      \n",
    "        label = (d['label']).lower()\n",
    "        \n",
    "        if label == 'fake':\n",
    "            score = 1 #1 for true, 0 for fake\n",
    "            if (label == \"fake\"):\n",
    "                score = 0\n",
    "\n",
    "            #some documents might not have titles (or possible text?)\n",
    "            #these are stored as NaN so replace with an empty string\n",
    "            if (not isinstance(ftext, str) and np.isnan([ftext])):\n",
    "                ftext = \"\"\n",
    "                nanText += 1\n",
    "            if (not isinstance(ftitle, str) and np.isnan(ftitle)):\n",
    "                ftitle = \"\"\n",
    "                nanTitle += 1\n",
    "\n",
    "            ftext = ftext + ftitle #combining the text and title into one\n",
    "            ftext = pf.replaceCommas(ftext)\n",
    "\n",
    "            text.append(ftext)   \n",
    "            #titles.append(ftitle)\n",
    "            Y.append(score)\n",
    "            i += 1\n",
    "            if (i == 578):\n",
    "                #for some reason the for loop doesnt know when to stop so put in a manual break\n",
    "                break\n",
    "    print(\"there are\", nanTitle, \"nan titles\")\n",
    "    print(\"there are\", nanText, \"nan text\")\n",
    "        \n",
    "    # create an instance of a CountVectorizer, using \n",
    "    # (1) the standard 'english' stopword set \n",
    "    # (2) only keeping terms in the vocabulary that occur in at least 1% of documents\n",
    "    # (3) allowing both unigrams and bigrams in the vocabulary (use \"ngram_range=(1,2)\" to do this)\n",
    "    vectorizerText = CountVectorizer(stop_words = getLemmatizedStopwords(), min_df=.01, ngram_range=(1,2), tokenizer= pf.LemmaTokenizer() )\n",
    "    #vectorizerNoLem = CountVectorizer(stop_words = 'english', min_df=.01, ngram_range=(1,2)) #no lemmatization\n",
    "    \n",
    "    # create a sparse BOW array from 'text' using vectorizer  \n",
    "    X = vectorizerText.fit_transform(text)\n",
    "    print(X.toarray().shape)\n",
    "    #X2 = vectorizerNoLem.fit_transform(text)\n",
    "    \n",
    "    print('Data shape for text: ', X.shape)\n",
    "    # print('Data shape for text: ', X2.shape)\n",
    "    \n",
    "    #can comment out to not see the vocabularies\n",
    "#     print('Vocabulary for text: ', vectorizerText.get_feature_names())\n",
    "#     print('Count Vectorizer Vocab', vectorizerText.vocabulary_)\n",
    "\n",
    "    return X, Y, vectorizerText\n",
    "\n",
    "fake_X, fake_Y, fakeVectorizerText = getFakeCoronaVocabulary()"
   ]
  },
  {
   "cell_type": "markdown",
   "metadata": {},
   "source": [
    "### Top 10 Words in False Articles "
   ]
  },
  {
   "cell_type": "code",
   "execution_count": 23,
   "metadata": {},
   "outputs": [
    {
     "name": "stdout",
     "output_type": "stream",
     "text": [
      "[('coronavirus', 2573), ('virus', 2178), ('china', 1375), ('vaccine', 1363), ('people', 1274), ('wuhan', 1089), ('world', 933), ('one', 908), ('also', 889), ('new', 870)]\n"
     ]
    }
   ],
   "source": [
    "from collections import defaultdict\n",
    "## Fixed\n",
    "\n",
    "fake_vocab_counts = np.array(fake_X.toarray())\n",
    "fake_vocab_counts = fake_vocab_counts.sum(axis=0)\n",
    "\n",
    "fake_term_counts = dict()\n",
    "\n",
    "for term, index in fakeVectorizerText.vocabulary_.items():\n",
    "    fake_term_counts[term] = fake_vocab_counts[index]\n",
    "\n",
    "top_10_fake = sorted(fake_term_counts.items(), key=(lambda x : -x[1]))[:10]\n",
    "print(top_10_fake)"
   ]
  },
  {
   "cell_type": "code",
   "execution_count": 27,
   "metadata": {},
   "outputs": [
    {
     "name": "stdout",
     "output_type": "stream",
     "text": [
      "20100970\n",
      "10813575\n"
     ]
    }
   ],
   "source": [
    "# fake_counter = sum(fakeVectorizerText.vocabulary_.values())\n",
    "fake_counter = 0\n",
    "# all_counter = sum(vectorizerText.vocabulary_.values())\n",
    "all_counter = 0\n",
    "\n",
    "for num1 in fakeVectorizerText.vocabulary_.values():\n",
    "    fake_counter += num1\n",
    "\n",
    "for num in vectorizerText.vocabulary_.values():\n",
    "    all_counter += num\n",
    "   \n",
    "print(fake_counter)\n",
    "print(all_counter)"
   ]
  },
  {
   "cell_type": "code",
   "execution_count": 25,
   "metadata": {},
   "outputs": [
    {
     "name": "stdout",
     "output_type": "stream",
     "text": [
      "\n",
      "Extracting tokens from each review.....(can be slow for a large number of reviews)......\n",
      "there are 2 nan titles\n",
      "there are 3 nan text\n",
      "Data shape for text:  (586, 4913)\n"
     ]
    }
   ],
   "source": [
    "coronafile =  pd.read_csv(\"../datasets/corona_fake.csv\")\n",
    "\n",
    "#cleaning up broken data according to labels added by\n",
    "# https://towardsdatascience.com/explore-covid-19-infodemic-2d1ceaae2306\n",
    "coronafile.loc[5]['label'] = 'fake'\n",
    "coronafile.loc[15]['label'] = 'true'\n",
    "coronafile.loc[43]['label'] = 'fake'\n",
    "coronafile.loc[131]['label'] = 'true'\n",
    "coronafile.loc[242]['label'] = 'fake'\n",
    "\n",
    "def getTrueCoronaVocabulary():\n",
    "    text = []\n",
    "    #titles = []\n",
    "    Y = []\n",
    "    i = 0\n",
    "    nanTitle = 0\n",
    "    nanText = 0\n",
    "    print('\\nExtracting tokens from each review.....(can be slow for a large number of reviews)......')   \n",
    "    for d in coronafile.loc:\n",
    "        ftext = d['text']   # keep only the text and label\n",
    "        ftitle = d['title']      \n",
    "        label = (d['label']).lower()\n",
    "        \n",
    "        if label == 'true':\n",
    "            score = 1 #1 for true, 0 for fake\n",
    "            if (label == \"fake\"):\n",
    "                score = 0\n",
    "\n",
    "            #some documents might not have titles (or possible text?)\n",
    "            #these are stored as NaN so replace with an empty string\n",
    "            if (not isinstance(ftext, str) and np.isnan([ftext])):\n",
    "                ftext = \"\"\n",
    "                nanText += 1\n",
    "            if (not isinstance(ftitle, str) and np.isnan(ftitle)):\n",
    "                ftitle = \"\"\n",
    "                nanTitle += 1\n",
    "\n",
    "            ftext = ftext + ftitle #combining the text and title into one\n",
    "            ftext = pf.replaceCommas(ftext)\n",
    "\n",
    "            text.append(ftext)   \n",
    "            #titles.append(ftitle)\n",
    "            Y.append(score)\n",
    "            i += 1\n",
    "            if (i == 586):\n",
    "                #for some reason the for loop doesnt know when to stop so put in a manual break\n",
    "                break\n",
    "    print(\"there are\", nanTitle, \"nan titles\")\n",
    "    print(\"there are\", nanText, \"nan text\")\n",
    "        \n",
    "    # create an instance of a CountVectorizer, using \n",
    "    # (1) the standard 'english' stopword set \n",
    "    # (2) only keeping terms in the vocabulary that occur in at least 1% of documents\n",
    "    # (3) allowing both unigrams and bigrams in the vocabulary (use \"ngram_range=(1,2)\" to do this)\n",
    "    vectorizerText = CountVectorizer(stop_words = getLemmatizedStopwords(), min_df=.01, ngram_range=(1,2), tokenizer= pf.LemmaTokenizer() )\n",
    "    #vectorizerNoLem = CountVectorizer(stop_words = 'english', min_df=.01, ngram_range=(1,2)) #no lemmatization\n",
    "    \n",
    "    # create a sparse BOW array from 'text' using vectorizer  \n",
    "    X = vectorizerText.fit_transform(text)\n",
    "    #X2 = vectorizerNoLem.fit_transform(text)\n",
    "    \n",
    "    print('Data shape for text: ', X.shape)\n",
    "    # print('Data shape for text: ', X2.shape)\n",
    "    \n",
    "    #can comment out to not see the vocabularies\n",
    "#     print('Vocabulary for text: ', vectorizerText.get_feature_names())\n",
    "#     print('Count Vectorizer Vocab', vectorizerText.vocabulary_)\n",
    "\n",
    "    return X, Y, vectorizerText\n",
    "\n",
    "true_X, true_Y, trueVectorizerText = getTrueCoronaVocabulary()"
   ]
  },
  {
   "cell_type": "code",
   "execution_count": 28,
   "metadata": {},
   "outputs": [],
   "source": [
    "true_counter = sum(trueVectorizerText.vocabulary_.values())\n",
    "\n",
    "true_and_fake_counter = true_counter + fake_counter\n",
    "\n",
    "top_10_fake_percentage_of_fake = np.array(top_10_fake)[:,1]\n",
    "top_10_fake_percentage_of_total = np.array(top_10_fake)[:,1]\n",
    "\n",
    "top_10_fake_percentage_of_fake = np.array(top_10_fake_percentage_of_fake, dtype=np.float64)\n",
    "top_10_fake_percentage_of_total = np.array(top_10_fake_percentage_of_total, dtype=np.float64)\n",
    "\n",
    "\n",
    "top_10_fake_percentage_of_fake = top_10_fake_percentage_of_fake / fake_counter\n",
    "top_10_fake_percentage_of_total = top_10_fake_percentage_of_total / true_and_fake_counter"
   ]
  },
  {
   "cell_type": "code",
   "execution_count": 29,
   "metadata": {},
   "outputs": [],
   "source": [
    "## Fixed\n",
    "\n",
    "true_vocab_counts = np.array(true_X.toarray())\n",
    "true_vocab_counts = true_vocab_counts.sum(axis=0)\n",
    "\n",
    "true_counter = true_vocab_counts.sum()\n",
    "\n",
    "fake_vocab_counts = np.array(fake_X.toarray())\n",
    "fake_vocab_counts = fake_vocab_counts.sum(axis=0)\n",
    "\n",
    "fake_counter = fake_vocab_counts.sum()\n",
    "\n",
    "true_and_fake_counter = true_counter + fake_counter\n",
    "\n",
    "top_10_fake_percentage_of_fake = np.array(top_10_fake)[:,1]\n",
    "top_10_fake_percentage_of_total = np.array(top_10_fake)[:,1]\n",
    "\n",
    "top_10_fake_percentage_of_fake = np.array(top_10_fake_percentage_of_fake, dtype=np.float64)\n",
    "top_10_fake_percentage_of_total = np.array(top_10_fake_percentage_of_total, dtype=np.float64)\n",
    "\n",
    "\n",
    "top_10_fake_percentage_of_fake = top_10_fake_percentage_of_fake / fake_counter\n",
    "top_10_fake_percentage_of_total = top_10_fake_percentage_of_total / true_and_fake_counter"
   ]
  },
  {
   "cell_type": "markdown",
   "metadata": {},
   "source": [
    "### Top 10 Words in False Articles (as percentage of total number of words in fake articles)"
   ]
  },
  {
   "cell_type": "code",
   "execution_count": 30,
   "metadata": {},
   "outputs": [],
   "source": [
    "import matplotlib.pyplot as plt"
   ]
  },
  {
   "cell_type": "code",
   "execution_count": 31,
   "metadata": {},
   "outputs": [],
   "source": [
    "top_10_fake_words = np.array(top_10_fake)[:,0]"
   ]
  },
  {
   "cell_type": "code",
   "execution_count": 32,
   "metadata": {},
   "outputs": [
    {
     "data": {
      "image/png": "[encoded data removed]",
      "text/plain": [
       "<Figure size 432x288 with 1 Axes>"
      ]
     },
     "metadata": {
      "needs_background": "light"
     },
     "output_type": "display_data"
    }
   ],
   "source": [
    "fig = plt.figure()\n",
    "ax = fig.add_axes([0, 0, 2, 2])\n",
    "ax.bar(top_10_fake_words, top_10_fake_percentage_of_fake)\n",
    "plt.show()"
   ]
  },
  {
   "cell_type": "markdown",
   "metadata": {},
   "source": [
    "### Top 10 Words in False Articles (as percentage of total number of words in fake articles + true articles)"
   ]
  },
  {
   "cell_type": "code",
   "execution_count": 33,
   "metadata": {},
   "outputs": [
    {
     "data": {
      "image/png": "[encoded data removed]",
      "text/plain": [
       "<Figure size 432x288 with 1 Axes>"
      ]
     },
     "metadata": {
      "needs_background": "light"
     },
     "output_type": "display_data"
    }
   ],
   "source": [
    "fig = plt.figure()\n",
    "ax = fig.add_axes([0, 0, 2, 2])\n",
    "ax.bar(top_10_fake_words, top_10_fake_percentage_of_total)\n",
    "plt.show()"
   ]
  },
  {
   "cell_type": "markdown",
   "metadata": {},
   "source": [
    "### Top 10 Words in True Articles "
   ]
  },
  {
   "cell_type": "code",
   "execution_count": 34,
   "metadata": {},
   "outputs": [
    {
     "name": "stdout",
     "output_type": "stream",
     "text": [
      "[('virus', 2136), ('people', 1731), ('coronavirus', 1643), ('vaccine', 1278), ('health', 1020), ('said', 1000), ('disease', 941), ('symptom', 875), ('new', 819), ('may', 809)]\n"
     ]
    }
   ],
   "source": [
    "## Fixed\n",
    "\n",
    "true_vocab_counts = np.array(true_X.toarray())\n",
    "true_vocab_counts = true_vocab_counts.sum(axis=0)\n",
    "\n",
    "true_term_counts = dict()\n",
    "\n",
    "for term, index in trueVectorizerText.vocabulary_.items():\n",
    "    true_term_counts[term] = true_vocab_counts[index]\n",
    "\n",
    "top_10_true = sorted(true_term_counts.items(), key=(lambda x : -x[1]))[:10]\n",
    "print(top_10_true)"
   ]
  },
  {
   "cell_type": "markdown",
   "metadata": {},
   "source": [
    "### Top 10 Words in True Articles (as percentage of total number of words in True articles)"
   ]
  },
  {
   "cell_type": "code",
   "execution_count": 35,
   "metadata": {},
   "outputs": [],
   "source": [
    "top_10_true_percentage_of_true = np.array(top_10_true)[:,1]\n",
    "top_10_true_percentage_of_total = np.array(top_10_true)[:,1]\n",
    "\n",
    "top_10_true_percentage_of_true = np.array(top_10_true_percentage_of_true, dtype=np.float64)\n",
    "top_10_true_percentage_of_total = np.array(top_10_true_percentage_of_total, dtype=np.float64)\n",
    "\n",
    "\n",
    "top_10_true_percentage_of_true = top_10_true_percentage_of_true / true_counter\n",
    "top_10_true_percentage_of_total = top_10_true_percentage_of_total / true_and_fake_counter\n",
    "\n",
    "top_10_true_words = np.array(top_10_true)[:,0]"
   ]
  },
  {
   "cell_type": "code",
   "execution_count": 36,
   "metadata": {},
   "outputs": [],
   "source": [
    "## Fixed\n",
    "top_10_true_percentage_of_true = np.array(top_10_true)[:,1]\n",
    "top_10_true_percentage_of_total = np.array(top_10_true)[:,1]\n",
    "\n",
    "top_10_true_percentage_of_true = np.array(top_10_true_percentage_of_true, dtype=np.float64)\n",
    "top_10_true_percentage_of_total = np.array(top_10_true_percentage_of_total, dtype=np.float64)\n",
    "\n",
    "\n",
    "top_10_true_percentage_of_true = top_10_true_percentage_of_true / true_counter\n",
    "top_10_true_percentage_of_total = top_10_true_percentage_of_total / true_and_fake_counter\n",
    "\n",
    "top_10_true_words = np.array(top_10_true)[:,0]"
   ]
  },
  {
   "cell_type": "code",
   "execution_count": 37,
   "metadata": {},
   "outputs": [
    {
     "data": {
      "image/png": "[encoded data removed]",
      "text/plain": [
       "<Figure size 432x288 with 1 Axes>"
      ]
     },
     "metadata": {
      "needs_background": "light"
     },
     "output_type": "display_data"
    }
   ],
   "source": [
    "fig = plt.figure()\n",
    "ax = fig.add_axes([0, 0, 2, 2])\n",
    "ax.bar(top_10_true_words, top_10_true_percentage_of_true)\n",
    "plt.show()"
   ]
  },
  {
   "cell_type": "markdown",
   "metadata": {},
   "source": [
    "### Top 10 Words in True Articles (as percentage of total number of words in fake articles + true articles)"
   ]
  },
  {
   "cell_type": "code",
   "execution_count": 38,
   "metadata": {},
   "outputs": [
    {
     "data": {
      "image/png": "[encoded data removed]",
      "text/plain": [
       "<Figure size 432x288 with 1 Axes>"
      ]
     },
     "metadata": {
      "needs_background": "light"
     },
     "output_type": "display_data"
    }
   ],
   "source": [
    "fig = plt.figure()\n",
    "ax = fig.add_axes([0, 0, 2, 2])\n",
    "ax.bar(top_10_true_words, top_10_true_percentage_of_total)\n",
    "plt.show()"
   ]
  },
  {
   "cell_type": "markdown",
   "metadata": {},
   "source": [
    "### Word with most frequency"
   ]
  },
  {
   "cell_type": "code",
   "execution_count": 39,
   "metadata": {},
   "outputs": [
    {
     "name": "stdout",
     "output_type": "stream",
     "text": [
      "('virus', 4314)\n"
     ]
    }
   ],
   "source": [
    "## Fixed\n",
    "\n",
    "original_vocab_counts = np.array(X.toarray())\n",
    "original_vocab_counts = original_vocab_counts.sum(axis=0)\n",
    "\n",
    "original_term_counts = dict()\n",
    "\n",
    "for term, index in vectorizerText.vocabulary_.items():\n",
    "    original_term_counts[term] = original_vocab_counts[index]\n",
    "\n",
    "print(sorted(original_term_counts.items(), key=(lambda x : -x[1]))[0])"
   ]
  },
  {
   "cell_type": "markdown",
   "metadata": {},
   "source": [
    "### Word with least frequency"
   ]
  },
  {
   "cell_type": "code",
   "execution_count": 40,
   "metadata": {},
   "outputs": [
    {
     "name": "stdout",
     "output_type": "stream",
     "text": [
      "('magnitude', 12)\n"
     ]
    }
   ],
   "source": [
    "## Fixed\n",
    "\n",
    "print(sorted(original_term_counts.items(), key=(lambda x : x[1]))[0])"
   ]
  },
  {
   "cell_type": "markdown",
   "metadata": {},
   "source": [
    "### Top 10 words that appear in true articles but not in false articles"
   ]
  },
  {
   "cell_type": "code",
   "execution_count": 41,
   "metadata": {},
   "outputs": [
    {
     "name": "stdout",
     "output_type": "stream",
     "text": [
      "[('droplet', 155), ('weather', 108), ('infected person', 107), ('tracing', 101), ('sneeze', 89), ('close contact', 89), ('bathroom', 81), ('contact tracing', 80), ('provider', 79), ('sanitizer', 79)]\n"
     ]
    }
   ],
   "source": [
    "## Fixed\n",
    "\n",
    "words_in_fake = set(fake_term_counts.keys())\n",
    "words_in_true = set(true_term_counts.keys())\n",
    "words_in_true_not_in_fake = words_in_true - words_in_fake\n",
    "\n",
    "words_in_true_not_in_fake_term_counts = dict()\n",
    "\n",
    "for term, index in vectorizerText.vocabulary_.items():\n",
    "    if term in words_in_true_not_in_fake:\n",
    "        words_in_true_not_in_fake_term_counts[term] = original_vocab_counts[index]\n",
    "\n",
    "print(sorted(words_in_true_not_in_fake_term_counts.items(), key=(lambda x : -x[1]))[:10])"
   ]
  },
  {
   "cell_type": "markdown",
   "metadata": {},
   "source": [
    "### Top 10 words that appear in false articles but not in true articles"
   ]
  },
  {
   "cell_type": "code",
   "execution_count": 42,
   "metadata": {},
   "outputs": [
    {
     "name": "stdout",
     "output_type": "stream",
     "text": [
      "[('wuhan coronavirus', 170), ('biological weapon', 156), ('warfare', 148), ('intravenous', 144), ('communist', 124), ('biological warfare', 120), ('agenda', 115), ('intravenous vitamin', 105), ('patent', 104), ('boyle', 97)]\n"
     ]
    }
   ],
   "source": [
    "words_in_fake_not_in_true = words_in_fake - words_in_true\n",
    "\n",
    "words_in_fake_not_in_true_term_counts = dict()\n",
    "\n",
    "for term, index in vectorizerText.vocabulary_.items():\n",
    "    if term in words_in_fake_not_in_true:\n",
    "        words_in_fake_not_in_true_term_counts[term] = original_vocab_counts[index] \n",
    "        \n",
    "print(sorted(words_in_fake_not_in_true_term_counts.items(), key=(lambda x : -x[1]))[:10])"
   ]
  },
  {
   "cell_type": "code",
   "execution_count": null,
   "metadata": {},
   "outputs": [],
   "source": []
  }
 ],
 "metadata": {
  "kernelspec": {
   "display_name": "Python 3",
   "language": "python",
   "name": "python3"
  },
  "language_info": {
   "codemirror_mode": {
    "name": "ipython",
    "version": 3
   },
   "file_extension": ".py",
   "mimetype": "text/x-python",
   "name": "python",
   "nbconvert_exporter": "python",
   "pygments_lexer": "ipython3",
   "version": "3.8.5"
  }
 },
 "nbformat": 4,
 "nbformat_minor": 4
}
